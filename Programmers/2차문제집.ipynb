{
 "cells": [
  {
   "cell_type": "code",
   "execution_count": null,
   "metadata": {},
   "outputs": [],
   "source": [
    "from itertools import combinations\n",
    "def solution(number):\n",
    "    answer = 0\n",
    "    students = list(combinations(number,3))\n",
    "    for i in students:\n",
    "        if sum(i) == 0:\n",
    "            answer += 1 \n",
    "    return answer"
   ]
  },
  {
   "cell_type": "code",
   "execution_count": 9,
   "metadata": {},
   "outputs": [
    {
     "data": {
      "text/plain": [
       "[]"
      ]
     },
     "execution_count": 9,
     "metadata": {},
     "output_type": "execute_result"
    }
   ],
   "source": [
    "#시간초과 : 그럴 것 같았다... 10점 \n",
    "def solution(topping):\n",
    "    answer = 0\n",
    "    for i in range(len(topping)-2):\n",
    "        chulsoo = topping[:i+1]\n",
    "        bro = topping[i+1:]\n",
    "        if len(set(chulsoo)) == len(set(bro)):\n",
    "            answer += 1\n",
    "    return answer"
   ]
  },
  {
   "cell_type": "code",
   "execution_count": null,
   "metadata": {},
   "outputs": [],
   "source": [
    "#이분탐색 - 15점\n",
    "def solution(topping):\n",
    "    answer = 0\n",
    "    start = 0\n",
    "    end = len(topping) -1 \n",
    "    while start <= end:\n",
    "        mid = (start + end) // 2 \n",
    "        chulsoo, brother = len(set(topping[:mid])), len(set(topping[mid:]))\n",
    "\n",
    "        if chulsoo < brother:\n",
    "            start = mid + 1 \n",
    "        elif chulsoo > brother:\n",
    "            end = mid - 1\n",
    "        elif chulsoo == brother:\n",
    "            answer += 1\n",
    "    return answer"
   ]
  },
  {
   "cell_type": "code",
   "execution_count": null,
   "metadata": {},
   "outputs": [],
   "source": [
    "#이분탐색 = 20점....\n",
    "def solution(topping):\n",
    "    answer = 0\n",
    "    start = 0\n",
    "    end = len(topping) -1 \n",
    "    while True:\n",
    "        if start > end:\n",
    "            answer = 0\n",
    "            break\n",
    "        mid = (start + end) // 2 \n",
    "        chulsoo, brother = len(set(topping[:mid])), len(set(topping[mid:]))\n",
    "\n",
    "        if chulsoo < brother:\n",
    "            start = mid + 1 \n",
    "        elif chulsoo > brother:\n",
    "            end = mid - 1\n",
    "        elif chulsoo == brother:\n",
    "            answer += 1\n",
    "            break\n",
    "    #[1,2,1,3,1,/ 1,4,1,2] => [1,2,3] / [1,4,2] set써서 종류 같으면 break\n",
    "\n",
    "    #[1,2,1,3,1, / 1,4,1,2] => [1,2,1,3,1,1 / 4,1,2]인 경우를 세는 코드 \n",
    "    while True:\n",
    "        mid += 1\n",
    "        if topping[mid-1] == topping[mid]:\n",
    "            answer += 1\n",
    "            continue\n",
    "        else:\n",
    "            break\n",
    "    while True:\n",
    "        mid -= 1\n",
    "        if topping[mid+1] == topping[mid]:\n",
    "            answer += 1\n",
    "            continue\n",
    "        else:\n",
    "            break\n",
    "    return answer"
   ]
  },
  {
   "cell_type": "code",
   "execution_count": null,
   "metadata": {},
   "outputs": [],
   "source": [
    "#하나라도 맞추자라는 심정으로.... => 6.3점 \n",
    "from collections import deque \n",
    "def solution(n, roads, sources, destination):\n",
    "    answer = [-1 for _ in range(len(sources))]\n",
    "    if destination in sources:\n",
    "        answer[sources.index(destination)] = 0\n",
    "    \n",
    "    visited = [0 for _ in range(n+1)]\n",
    "    visited[destination] = 1\n",
    "\n",
    "    queue = deque([destination])\n",
    "    length = 1\n",
    "\n",
    "    while True:\n",
    "        used_node = []\n",
    "        while len(queue) != 0:\n",
    "            node = queue.popleft()\n",
    "            \n",
    "\n",
    "    return answer"
   ]
  }
 ],
 "metadata": {
  "kernelspec": {
   "display_name": "Python 3.8.8 64-bit",
   "language": "python",
   "name": "python3"
  },
  "language_info": {
   "codemirror_mode": {
    "name": "ipython",
    "version": 3
   },
   "file_extension": ".py",
   "mimetype": "text/x-python",
   "name": "python",
   "nbconvert_exporter": "python",
   "pygments_lexer": "ipython3",
   "version": "3.8.8"
  },
  "orig_nbformat": 4,
  "vscode": {
   "interpreter": {
    "hash": "b50b7af385154bca1a6ba75f2d3e59d00e71294bfb9e86693d3b7dc72e3e5abb"
   }
  }
 },
 "nbformat": 4,
 "nbformat_minor": 2
}
