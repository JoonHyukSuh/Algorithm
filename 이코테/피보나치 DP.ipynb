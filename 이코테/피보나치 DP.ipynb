{
 "cells": [
  {
   "cell_type": "code",
   "execution_count": 1,
   "metadata": {},
   "outputs": [],
   "source": [
    "#피보나치 => 시간 효율 Bad\n",
    "def fibo(x):\n",
    "  if x == 1 or x==2:\n",
    "    return 1\n",
    "  return fibo(x-1) + fibo(x-2)"
   ]
  },
  {
   "cell_type": "code",
   "execution_count": 2,
   "metadata": {},
   "outputs": [],
   "source": [
    "#피보나치 => 메모이제이션 통해\n",
    "d = [0] * 100\n",
    "def fibo(x):\n",
    "  if x == 1 or x == 2:\n",
    "    return 1 \n",
    "  if d[x] != 0:\n",
    "    return d[x]\n",
    "  d[x] = fibo(x-1) + fibo(x-2)\n",
    "  return d[x]"
   ]
  },
  {
   "cell_type": "code",
   "execution_count": 3,
   "metadata": {},
   "outputs": [],
   "source": [
    "#피보나치 => 탑다운\n",
    "d = [0] * 100\n",
    "def pibo(x):\n",
    "  print('f(' + str(x)+ ')', end = ' ')\n",
    "  if x == 1 or x == 2:\n",
    "    return 1\n",
    "  if d[x] != 0:\n",
    "    return d[x]\n",
    "  d[x] = pibo(x-1) + pibo(x-2)\n",
    "\n",
    "  return d[x]"
   ]
  },
  {
   "cell_type": "code",
   "execution_count": null,
   "metadata": {},
   "outputs": [],
   "source": [
    "#피보나치 보텀업\n",
    "d[x] = [0]*100\n",
    "\n",
    "d[1] = 1\n",
    "d[2] = 1\n",
    "n = 99\n",
    "\n",
    "for i in range(3,n+1):\n",
    "  d[i] = d[i-1] + d[i-2]\n",
    "print(d[n])"
   ]
  }
 ],
 "metadata": {
  "kernelspec": {
   "display_name": "Python 3.8.8 64-bit",
   "language": "python",
   "name": "python3"
  },
  "language_info": {
   "codemirror_mode": {
    "name": "ipython",
    "version": 3
   },
   "file_extension": ".py",
   "mimetype": "text/x-python",
   "name": "python",
   "nbconvert_exporter": "python",
   "pygments_lexer": "ipython3",
   "version": "3.8.8"
  },
  "orig_nbformat": 4,
  "vscode": {
   "interpreter": {
    "hash": "b50b7af385154bca1a6ba75f2d3e59d00e71294bfb9e86693d3b7dc72e3e5abb"
   }
  }
 },
 "nbformat": 4,
 "nbformat_minor": 2
}
